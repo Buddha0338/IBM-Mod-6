# 📌 Import Required Libraries
import yfinance as yf
import pandas as pd
import requests
from bs4 import BeautifulSoup
import time
import matplotlib.pyplot as plt
from selenium import webdriver
from selenium.webdriver.chrome.service import Service
from selenium.webdriver.chrome.options import Options
from webdriver_manager.chrome import ChromeDriverManager

# ✅ Function to Download Stock Data using yfinance
def get_stock_data(ticker):
    stock = yf.Ticker(ticker)
    stock_data = stock.history(period="max")
    stock_data.reset_index(inplace=True)  # Reset index for better readability
    return stock_data

# ✅ Extract Tesla Stock Data
tesla_data = get_stock_data("TSLA")
print("🚀 Tesla Stock Data:")
print(tesla_data.head())

# ✅ Extract GameStop Stock Data
gme_data = get_stock_data("GME")
print("🎮 GameStop Stock Data:")
print(gme_data.head())

# ✅ Function to Scrape Revenue Data using Selenium
def get_revenue_data(url):
    options = Options()
    options.add_argument("--headless")  # Run Chrome in background
    driver = webdriver.Chrome(service=Service(ChromeDriverManager().install()), options=options)
    
    driver.get(url)
    time.sleep(5)  # Allow JavaScript to load
    soup = BeautifulSoup(driver.page_source, "html.parser")
    driver.quit()

    # Extract all tables
    tables = soup.find_all("table")
    if tables:
        revenue_table = tables[0]  # Assuming the first table contains revenue data
        revenue_data = pd.read_html(str(revenue_table))[0]
        revenue_data.columns = ["Date", "Revenue"]
        revenue_data = revenue_data.dropna()
        revenue_data["Revenue"] = revenue_data["Revenue"].replace("[\$,]", "", regex=True).astype(float)
        return revenue_data
    else:
        print("⚠️ Revenue table not found.")
        return None

# ✅ Extract Tesla Revenue Data
tesla_revenue = get_revenue_data("https://www.macrotrends.net/stocks/charts/TSLA/tesla/revenue")
print("🚀 Tesla Revenue Data:")
print(tesla_revenue.tail())

# ✅ Extract GameStop Revenue Data
gme_revenue = get_revenue_data("https://www.macrotrends.net/stocks/charts/GME/gamestop/revenue")
print("🎮 GameStop Revenue Data:")
print(gme_revenue.tail())

# ✅ Function to Plot Stock Data
def plot_stock_data(stock_data, revenue_data, title):
    fig, ax1 = plt.subplots(figsize=(10,5))

    ax1.set_xlabel("Date")
    ax1.set_ylabel("Stock Price", color="tab:blue")
    ax1.plot(stock_data["Date"], stock_data["Close"], label="Stock Price", color="tab:blue")
    ax1.tick_params(axis="y", labelcolor="tab:blue")

    ax2 = ax1.twinx()
    ax2.set_ylabel("Revenue (Millions)", color="tab:red")
    ax2.plot(revenue_data["Date"], revenue_data["Revenue"], label="Revenue", color="tab:red")
    ax2.tick_params(axis="y", labelcolor="tab:red")

    plt.title(title)
    fig.tight_layout()
    plt.show()

# ✅ Plot Tesla Stock vs Revenue
plot_stock_data(tesla_data, tesla_revenue, "Tesla Stock vs Revenue")

# ✅ Plot GameStop Stock vs Revenue
plot_stock_data(gme_data, gme_revenue, "GameStop Stock vs Revenue")

print("🎉 Analysis Complete!")
